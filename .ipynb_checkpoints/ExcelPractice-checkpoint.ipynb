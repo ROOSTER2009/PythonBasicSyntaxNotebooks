{
 "cells": [
  {
   "cell_type": "markdown",
   "metadata": {},
   "source": [
    "# Basic Excel READ using PANDAS"
   ]
  },
  {
   "cell_type": "code",
   "execution_count": 3,
   "metadata": {},
   "outputs": [],
   "source": [
    "import pandas as pd\n",
    "from openpyxl.workbook import Workbook  #need to understand"
   ]
  },
  {
   "cell_type": "code",
   "execution_count": 4,
   "metadata": {},
   "outputs": [],
   "source": [
    "#read Excel, csv and text file\n",
    "df_myExcel = pd.read_excel('/Users/ragnihotri/Rohit/Training/Python/sampleFiles/activeuserlist1.xlsx')\n",
    "df_excel = pd.read_excel('/Users/ragnihotri/Rohit/Training/Python/sampleFiles/regions.xlsx')\n",
    "df_csv = pd.read_csv('/Users/ragnihotri/Rohit/Training/Python/sampleFiles/Names.csv', header = None)\n",
    "df_txt = pd.read_csv('/Users/ragnihotri/Rohit/Training/Python/sampleFiles/data.txt', delimiter = '\\t')"
   ]
  },
  {
   "cell_type": "code",
   "execution_count": 5,
   "metadata": {
    "scrolled": true
   },
   "outputs": [
    {
     "name": "stdout",
     "output_type": "stream",
     "text": [
      "  Region  Units  Sales  Export\n",
      "0  South     54    332     100\n",
      "1  North     20    110      50\n",
      "2   East     36    224      85\n",
      "3   West     60    400     110\n",
      "4   West     50    226      65\n",
      "5  North     84    470     150\n"
     ]
    }
   ],
   "source": [
    "print(df_excel) "
   ]
  },
  {
   "cell_type": "code",
   "execution_count": 6,
   "metadata": {},
   "outputs": [
    {
     "name": "stdout",
     "output_type": "stream",
     "text": [
      "                     0         1                                 2  \\\n",
      "0                 John       Doe                 120 jefferson st.   \n",
      "1                 Jack  McGinnis                      220 hobo Av.   \n",
      "2        John \"Da Man\"    Repici                 120 Jefferson St.   \n",
      "3              Stephen     Tyler  7452 Terrace \"At the Plaza\" road   \n",
      "4                  NaN  Blankman                               NaN   \n",
      "5  Joan \"Danger\", Anne       Jet               9th, at Terrace plc   \n",
      "\n",
      "             3    4      5       6  \n",
      "0    Riverside   NJ   8074   45000  \n",
      "1        Phila   PA   9119   18000  \n",
      "2    Riverside   NJ   8075  120000  \n",
      "3     SomeTown   SD  91234   90000  \n",
      "4     SomeTown   SD    298   30000  \n",
      "5  Desert City   CO    123   68000  \n"
     ]
    }
   ],
   "source": [
    "print(df_csv)"
   ]
  },
  {
   "cell_type": "code",
   "execution_count": 7,
   "metadata": {},
   "outputs": [
    {
     "name": "stdout",
     "output_type": "stream",
     "text": [
      "                ID  EGF_Baseline  EGF_Stimulus\n",
      "0      FBgn0029994         -1.25         -0.27\n",
      "1      FBgn0037191         -1.05          0.78\n",
      "2      FBgn0036810          2.08          1.34\n",
      "3      FBgn0033320          1.15          0.45\n",
      "4      FBgn0051156         -1.77         -0.76\n",
      "5      FBgn0004635         -0.77         -0.42\n",
      "6      FBgn0260646         -0.92          0.97\n",
      "7      FBgn0038397          0.04          0.22\n",
      "8      FBgn0010583         -0.77         -0.59\n",
      "9      FBgn0025583         -2.18         -2.13\n",
      "10     FBgn0032906         -1.63          0.25\n",
      "11     FBgn0031321          0.57         -0.42\n",
      "12     FBgn0052568          0.69          0.39\n",
      "13     FBgn0030674         -0.45          1.63\n",
      "14     FBgn0085397         -1.19         -1.37\n",
      "15     FBgn0038427         -0.17          0.38\n",
      "16     FBgn0033233         -1.14          0.46\n",
      "17     FBgn0033736          1.12          0.93\n",
      "18     FBgn0033495          0.82         -0.33\n",
      "19     FBgn0020503          0.06         -1.13\n",
      "20     FBgn0031885          0.65          0.06\n",
      "21     FBgn0067864          1.14          0.13\n",
      "22     FBgn0035785         -1.26         -1.06\n",
      "23     FBgn0039673         -1.24          1.01\n",
      "24     FBgn0051717          7.19         -0.27\n",
      "25     FBgn0030748          0.70         -0.58\n",
      "26     FBgn0031751          1.32         -0.60\n",
      "27     FBgn0039207         -0.99         -0.96\n",
      "28     FBgn0067312         -0.52         -0.71\n",
      "29     FBgn0052816         -0.83          0.61\n",
      "...            ...           ...           ...\n",
      "11736  FBgn0001981         -1.07         -1.79\n",
      "11737  FBgn0034291         -1.84         -1.43\n",
      "11738  FBgn0010531         -0.83          0.76\n",
      "11739  FBgn0039677         -1.25          0.53\n",
      "11740  FBgn0036851          0.39          0.82\n",
      "11741  FBgn0051267          0.28          0.83\n",
      "11742  FBgn0032368          0.46         -0.69\n",
      "11743  FBgn0030584         -1.67         -0.96\n",
      "11744  FBgn0023169          0.84          0.85\n",
      "11745  FBgn0030443          0.66          0.50\n",
      "11746  FBgn0035008         -0.32         -0.22\n",
      "11747  FBgn0030403         -0.41          0.35\n",
      "11748  FBgn0001128         -1.60          1.60\n",
      "11749  FBgn0250846         -1.20          1.05\n",
      "11750  FBgn0015609          1.07         -0.49\n",
      "11751  FBgn0259994         -1.21          2.45\n",
      "11752  FBgn0035011         -1.12         -1.02\n",
      "11753  FBgn0033063          0.78          1.11\n",
      "11754  FBgn0032895         -0.23         -0.74\n",
      "11755  FBgn0031141          0.49          0.64\n",
      "11756  FBgn0040069         -0.93          0.79\n",
      "11757  FBgn0033471          0.70         -0.58\n",
      "11758  FBgn0035591         -0.30         -0.17\n",
      "11759  FBgn0036822         -0.46          0.88\n",
      "11760  FBgn0028530         -0.35          0.61\n",
      "11761  FBgn0026136          0.57          1.23\n",
      "11762  FBgn0037356          1.14         -0.95\n",
      "11763  FBgn0038214         -1.86         -0.67\n",
      "11764  FBgn0042110          1.49          0.43\n",
      "11765  FBgn0034202         -1.32         -0.22\n",
      "\n",
      "[11766 rows x 3 columns]\n"
     ]
    }
   ],
   "source": [
    "print(df_txt)"
   ]
  },
  {
   "cell_type": "code",
   "execution_count": 8,
   "metadata": {},
   "outputs": [
    {
     "name": "stdout",
     "output_type": "stream",
     "text": [
      "                 First      Last                           Address  \\\n",
      "0                 John       Doe                 120 jefferson st.   \n",
      "1                 Jack  McGinnis                      220 hobo Av.   \n",
      "2        John \"Da Man\"    Repici                 120 Jefferson St.   \n",
      "3              Stephen     Tyler  7452 Terrace \"At the Plaza\" road   \n",
      "4                  NaN  Blankman                               NaN   \n",
      "5  Joan \"Danger\", Anne       Jet               9th, at Terrace plc   \n",
      "\n",
      "          City State  AreaCode  Salary  \n",
      "0    Riverside    NJ      8074   45000  \n",
      "1        Phila    PA      9119   18000  \n",
      "2    Riverside    NJ      8075  120000  \n",
      "3     SomeTown    SD     91234   90000  \n",
      "4     SomeTown    SD       298   30000  \n",
      "5  Desert City    CO       123   68000  \n"
     ]
    }
   ],
   "source": [
    "#adding the header col to csv\n",
    "df_csv.columns = ['First', 'Last', 'Address', 'City', 'State', 'AreaCode', 'Salary'] \n",
    "print(df_csv)"
   ]
  },
  {
   "cell_type": "code",
   "execution_count": 9,
   "metadata": {},
   "outputs": [],
   "source": [
    "#saving csv to excel file with header\n",
    "df_csv.to_excel('/Users/ragnihotri/Rohit/Training/Python/sampleFiles/modified.xlsx') "
   ]
  },
  {
   "cell_type": "code",
   "execution_count": 10,
   "metadata": {
    "scrolled": false
   },
   "outputs": [
    {
     "name": "stdout",
     "output_type": "stream",
     "text": [
      "     USER_NAME          GROUP_NAME\n",
      "0       ugth48          accounting\n",
      "1       u8mk33               admin\n",
      "2      ugdd130               admin\n",
      "3      uisa106               admin\n",
      "4      ugar194          backoffice\n",
      "5      ugjb390          backoffice\n",
      "6      ugmm225          backoffice\n",
      "7      ugtr101          backoffice\n",
      "8       engine       backofficemgr\n",
      "9      ugcb113       documentation\n",
      "10      ugej46       documentation\n",
      "11      ugmt89       documentation\n",
      "12       ugcw5       eq_backoffice\n",
      "13     ugmm225       eq_backoffice\n",
      "14     ugrr101       eq_backoffice\n",
      "15      ugto37       eq_backoffice\n",
      "16     ugab193             eq_mktr\n",
      "17       ugnd6           eq_trader\n",
      "18   ugdd130gb             gbgroup\n",
      "19    ugja63gb             gbgroup\n",
      "20      ugdd59            marketer\n",
      "21      ugem33            marketer\n",
      "22      ughd30            marketer\n",
      "23      unbm29            marketer\n",
      "24       ugkh4             project\n",
      "25      ugcj65                risk\n",
      "26     ugrk118          backoffice\n",
      "27     ugsa174       documentation\n",
      "28     ugrg138       eq_backoffice\n",
      "29     ugtr101       eq_backoffice\n",
      "..         ...                 ...\n",
      "118    ugcc271          accounting\n",
      "119    ugdl130          backoffice\n",
      "120    ugjd210          backoffice\n",
      "121     ugno10          backoffice\n",
      "122    ugtm265          backoffice\n",
      "123     ugmt89       backofficemgr\n",
      "124    ugjk137       documentation\n",
      "125    ugmg211       documentation\n",
      "126    ugar194       eq_backoffice\n",
      "127    ugdl130       eq_backoffice\n",
      "128     ugmt89           eq_bo_mgr\n",
      "129    uvsh198           eq_bo_mgr\n",
      "130    ugtc111             eq_mktr\n",
      "131     ugja63           eq_trader\n",
      "132     ugaw60  equitybackofficero\n",
      "133  ugch109gb             gbgroup\n",
      "134   ugps44gb             gbgroup\n",
      "135    ugza3gb             gbgroup\n",
      "136     ugba39            marketer\n",
      "137    ugbm120            marketer\n",
      "138     uggl18            marketer\n",
      "139    ugjc367            marketer\n",
      "140    ugjs437            marketer\n",
      "141    ugkw167            marketer\n",
      "142     ugsz21            marketer\n",
      "143    unjs148            marketer\n",
      "144     unjv13            marketer\n",
      "145    ugch109               quant\n",
      "146     ugcn20              trader\n",
      "147      uvph1              trader\n",
      "\n",
      "[148 rows x 2 columns]\n"
     ]
    }
   ],
   "source": [
    "print(df_myExcel)"
   ]
  },
  {
   "cell_type": "code",
   "execution_count": 15,
   "metadata": {},
   "outputs": [
    {
     "name": "stdout",
     "output_type": "stream",
     "text": [
      "Rows in file = 6\n",
      "-----------------------------------\n",
      "                 First      Last                           Address  \\\n",
      "0                 John       Doe                 120 jefferson st.   \n",
      "1                 Jack  McGinnis                      220 hobo Av.   \n",
      "2        John \"Da Man\"    Repici                 120 Jefferson St.   \n",
      "3              Stephen     Tyler  7452 Terrace \"At the Plaza\" road   \n",
      "4                  NaN  Blankman                               NaN   \n",
      "5  Joan \"Danger\", Anne       Jet               9th, at Terrace plc   \n",
      "\n",
      "          City State  AreaCode  Income  \n",
      "0    Riverside    NJ      8074   45000  \n",
      "1        Phila    PA      9119   18000  \n",
      "2    Riverside    NJ      8075  120000  \n",
      "3     SomeTown    SD     91234   90000  \n",
      "4     SomeTown    SD       298   30000  \n",
      "5  Desert City    CO       123   68000  \n",
      "-----------------------------------\n",
      "0     NJ\n",
      "1     PA\n",
      "2     NJ\n",
      "3     SD\n",
      "4     SD\n",
      "5     CO\n",
      "Name: State, dtype: object\n",
      "-----------------------------------\n",
      "                 First State\n",
      "0                 John    NJ\n",
      "1                 Jack    PA\n",
      "2        John \"Da Man\"    NJ\n",
      "3              Stephen    SD\n",
      "4                  NaN    SD\n",
      "5  Joan \"Danger\", Anne    CO\n",
      "-----------------------------------\n",
      "0             John\n",
      "1             Jack\n",
      "2    John \"Da Man\"\n",
      "Name: First, dtype: object\n",
      "-----------------------------------\n"
     ]
    }
   ],
   "source": [
    "df = pd.read_csv('/Users/ragnihotri/Rohit/Training/Python/sampleFiles/Names.csv', header = None)\n",
    "df.columns = ['First', 'Last', 'Address', 'City', 'State', 'AreaCode', 'Income'] #adding the header col to csv\n",
    "size = str(len(df))\n",
    "print('Rows in file = ' + size)\n",
    "print('-----------------------------------')\n",
    "\n",
    "print(df)\n",
    "print('-----------------------------------')\n",
    "\n",
    "print(df['State'])\n",
    "print('-----------------------------------')\n",
    "\n",
    "print(df[['First', 'State']])\n",
    "print('-----------------------------------')\n",
    "\n",
    "print(df['First'][0:3])\n",
    "print('-----------------------------------')"
   ]
  },
  {
   "cell_type": "code",
   "execution_count": 12,
   "metadata": {},
   "outputs": [
    {
     "name": "stdout",
     "output_type": "stream",
     "text": [
      "First               Jack\n",
      "Last            McGinnis\n",
      "Address     220 hobo Av.\n",
      "City               Phila\n",
      "State                 PA\n",
      "AreaCode            9119\n",
      "Salary             18000\n",
      "Name: 1, dtype: object\n",
      "-----------------------------------\n",
      "Repici\n",
      "-----------------------------------\n",
      "-----------------------------------\n"
     ]
    }
   ],
   "source": [
    "#printing the first row\n",
    "print(df.iloc[1])\n",
    "print('-----------------------------------')\n",
    "\n",
    "#printing value at a particular index\n",
    "print(df.iloc[2,1])\n",
    "print('-----------------------------------')\n",
    "\n",
    "#save specific columns to a seperate file\n",
    "wanted_values = df[['First', 'Last', 'Salary']]\n",
    "df.to_excel('/Users/ragnihotri/Rohit/Training/Python/sampleFiles/modifiedViaApi2.xlsx')\n"
   ]
  },
  {
   "cell_type": "code",
   "execution_count": 25,
   "metadata": {},
   "outputs": [
    {
     "name": "stdout",
     "output_type": "stream",
     "text": [
      "                 First      Last                           Address  \\\n",
      "0                 John       Doe                 120 jefferson st.   \n",
      "1                 Jack  McGinnis                      220 hobo Av.   \n",
      "2        John \"Da Man\"    Repici                 120 Jefferson St.   \n",
      "3              Stephen     Tyler  7452 Terrace \"At the Plaza\" road   \n",
      "4                  NaN  Blankman                               NaN   \n",
      "5  Joan \"Danger\", Anne       Jet               9th, at Terrace plc   \n",
      "\n",
      "          City State  AreaCode  Income  \n",
      "0    Riverside    NJ      8074   45000  \n",
      "1        Phila    PA      9119   18000  \n",
      "2    Riverside    NJ      8075  120000  \n",
      "3     SomeTown    SD     91234   90000  \n",
      "4     SomeTown    SD       298   30000  \n",
      "5  Desert City    CO       123   68000  \n",
      "-----------------------------------\n",
      "  First Last            Address       City State  AreaCode  Income\n",
      "0  John  Doe  120 jefferson st.  Riverside    NJ      8074   45000\n"
     ]
    }
   ],
   "source": [
    "#search data based on cell value :: like sorting in excel\n",
    "print(df)\n",
    "print('-----------------------------------')\n",
    "print(df.loc[(df['City'] == 'Riverside') & (df['First'] == 'John')])"
   ]
  },
  {
   "cell_type": "code",
   "execution_count": 28,
   "metadata": {},
   "outputs": [
    {
     "name": "stdout",
     "output_type": "stream",
     "text": [
      "                 First  Income  Tax%\n",
      "0                 John   45000  0.20\n",
      "1                 Jack   18000  0.15\n",
      "2        John \"Da Man\"  120000  0.25\n",
      "3              Stephen   90000  0.25\n",
      "4                  NaN   30000  0.15\n",
      "5  Joan \"Danger\", Anne   68000  0.20\n"
     ]
    }
   ],
   "source": [
    "#create a new column based on values of an existing column\n",
    "df['Tax%'] = df['Income'].apply(lambda x: .15 if 10000 < x < 40000 else .2 if 40000 < x < 80000 else .25)\n",
    "print(df[['First', 'Income', 'Tax%']])"
   ]
  },
  {
   "cell_type": "code",
   "execution_count": 33,
   "metadata": {},
   "outputs": [
    {
     "name": "stdout",
     "output_type": "stream",
     "text": [
      "                 First  Income  Tax%  Taxes Owed\n",
      "0                 John   45000  0.20      9000.0\n",
      "1                 Jack   18000  0.15      2700.0\n",
      "2        John \"Da Man\"  120000  0.25     30000.0\n",
      "3              Stephen   90000  0.25     22500.0\n",
      "4                  NaN   30000  0.15      4500.0\n",
      "5  Joan \"Danger\", Anne   68000  0.20     13600.0\n"
     ]
    }
   ],
   "source": [
    "#create a new column based on multiplying two columns\n",
    "df['Taxes Owed'] = df['Income'] * df ['Tax%']\n",
    "#print(df)\n",
    "print(df[['First', 'Income', 'Tax%', 'Taxes Owed']])\n"
   ]
  },
  {
   "cell_type": "code",
   "execution_count": 47,
   "metadata": {},
   "outputs": [
    {
     "name": "stdout",
     "output_type": "stream",
     "text": [
      "       Last         City State  Income  Tax%  Taxes Owed\n",
      "0       Doe    Riverside    NJ   45000  0.20      9000.0\n",
      "1  McGinnis        Phila    PA   18000  0.15      2700.0\n",
      "2    Repici    Riverside    NJ  120000  0.25     30000.0\n",
      "3     Tyler     SomeTown    SD   90000  0.25     22500.0\n",
      "4  Blankman     SomeTown    SD   30000  0.15      4500.0\n",
      "5       Jet  Desert City    CO   68000  0.20     13600.0\n"
     ]
    }
   ],
   "source": [
    "#drop columns\n",
    "#to_drop = ['First','Address','AreaCode']\n",
    "#df.drop(columns=to_drop, axis = 0, inplace = True)\n",
    "print(df)"
   ]
  },
  {
   "cell_type": "code",
   "execution_count": 50,
   "metadata": {},
   "outputs": [
    {
     "name": "stdout",
     "output_type": "stream",
     "text": [
      "       Last         City State  Income  Tax%  Taxes Owed  Test Col\n",
      "0       Doe    Riverside    NJ   45000  0.20      9000.0      True\n",
      "1  McGinnis        Phila    PA   18000  0.15      2700.0      True\n",
      "2    Repici    Riverside    NJ  120000  0.25     30000.0     False\n",
      "3     Tyler     SomeTown    SD   90000  0.25     22500.0     False\n",
      "4  Blankman     SomeTown    SD   30000  0.15      4500.0      True\n",
      "5       Jet  Desert City    CO   68000  0.20     13600.0     False\n"
     ]
    }
   ],
   "source": [
    "#Change the value of a column based on another coloumn\n",
    "df['Test Col'] = False\n",
    "df.loc[df['Income'] < 60000, 'Test Col'] = True\n",
    "print(df)"
   ]
  },
  {
   "cell_type": "code",
   "execution_count": 58,
   "metadata": {},
   "outputs": [
    {
     "name": "stdout",
     "output_type": "stream",
     "text": [
      "       Last         City State  Income  Tax%  Taxes Owed  Test Col\n",
      "1  McGinnis        Phila    PA   18000  0.15      2700.0      True\n",
      "4  Blankman     SomeTown    SD   30000  0.15      4500.0      True\n",
      "0       Doe    Riverside    NJ   45000  0.20      9000.0      True\n",
      "5       Jet  Desert City    CO   68000  0.20     13600.0     False\n",
      "3     Tyler     SomeTown    SD   90000  0.25     22500.0     False\n",
      "2    Repici    Riverside    NJ  120000  0.25     30000.0     False\n"
     ]
    }
   ],
   "source": [
    "#groupby and sort functions\n",
    "print(df.sort_values(by = ['Income']))"
   ]
  },
  {
   "cell_type": "code",
   "execution_count": null,
   "metadata": {},
   "outputs": [],
   "source": [
    "# create a new excel file\n",
    "# create three worksheets\n",
    "# read data from multiple worksheets\n",
    "# edit data in a sheet\n",
    "# write data to multiple worksheets\n",
    "# delete one worksheet\n",
    "\n",
    "\n"
   ]
  }
 ],
 "metadata": {
  "kernelspec": {
   "display_name": "Python 3",
   "language": "python",
   "name": "python3"
  },
  "language_info": {
   "codemirror_mode": {
    "name": "ipython",
    "version": 3
   },
   "file_extension": ".py",
   "mimetype": "text/x-python",
   "name": "python",
   "nbconvert_exporter": "python",
   "pygments_lexer": "ipython3",
   "version": "3.7.1"
  }
 },
 "nbformat": 4,
 "nbformat_minor": 2
}

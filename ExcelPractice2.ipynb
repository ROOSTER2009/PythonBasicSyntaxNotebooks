{
 "cells": [
  {
   "cell_type": "code",
   "execution_count": 2,
   "metadata": {},
   "outputs": [],
   "source": [
    "from openpyxl.workbook import Workbook\n",
    "from openpyxl import load_workbook"
   ]
  },
  {
   "cell_type": "code",
   "execution_count": 6,
   "metadata": {},
   "outputs": [
    {
     "name": "stdout",
     "output_type": "stream",
     "text": [
      "['Another', 'MySheet', 'NewSheet']\n"
     ]
    }
   ],
   "source": [
    "wb = Workbook() #initializes a new workbook object\n",
    "ws = wb.active # goes to the active sheet\n",
    "\n",
    "ws1 = wb.create_sheet(\"NewSheet\")\n",
    "ws2 = wb.create_sheet(\"Another\", 0)\n",
    "\n",
    "ws.title = \"MySheet\"\n",
    "\n",
    "print(wb.sheetnames)"
   ]
  }
 ],
 "metadata": {
  "kernelspec": {
   "display_name": "Python 3",
   "language": "python",
   "name": "python3"
  },
  "language_info": {
   "codemirror_mode": {
    "name": "ipython",
    "version": 3
   },
   "file_extension": ".py",
   "mimetype": "text/x-python",
   "name": "python",
   "nbconvert_exporter": "python",
   "pygments_lexer": "ipython3",
   "version": "3.7.1"
  }
 },
 "nbformat": 4,
 "nbformat_minor": 2
}
